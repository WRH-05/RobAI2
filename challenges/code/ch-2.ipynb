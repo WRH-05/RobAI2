{
 "cells": [
  {
   "cell_type": "markdown",
   "id": "9416cfc0",
   "metadata": {},
   "source": [
    "# 🧠 Aide pour le Challenge CTF - Data Leakage\n",
    "Dans ce challenge, tu vas entraîner un modèle de machine learning sur un jeu de données de startups.\n",
    "Le but est de prédire si une startup va réussir (`Success = 1`) ou échouer (`Success = 0`)\n"
   ]
  },
  {
   "cell_type": "markdown",
   "id": "0cbc5d46",
   "metadata": {},
   "source": [
    "## 🕵️ Étapes conseillées"
   ]
  },
  {
   "cell_type": "markdown",
   "id": "0cccc430",
   "metadata": {},
   "source": [
    "**Explorer les données** : affiche quelques lignes\n"
   ]
  },
  {
   "cell_type": "markdown",
   "id": "10abae82",
   "metadata": {},
   "source": [
    "**Vérifier la corrélation** entre les colonnes\n"
   ]
  },
  {
   "cell_type": "markdown",
   "id": "54c218d6",
   "metadata": {},
   "source": [
    "Est-ce qu’une information est trop prédictive, comme un identifiant ou un code qui encode le succès ?"
   ]
  },
  {
   "cell_type": "code",
   "execution_count": 20,
   "id": "4b9ec320",
   "metadata": {},
   "outputs": [],
   "source": [
    "import pandas as pd\n",
    "import numpy as np\n",
    "import matplotlib.pyplot as plt\n",
    "import seaborn as sns\n",
    "from sklearn.model_selection import train_test_split\n",
    "from sklearn.ensemble import RandomForestClassifier\n",
    "from sklearn.linear_model import LogisticRegression\n",
    "from sklearn.metrics import accuracy_score, classification_report, confusion_matrix\n",
    "from sklearn.preprocessing import StandardScaler\n",
    "\n",
    "# Load the dataset\n",
    "df = pd.read_csv('D:\\Documents 2\\VScode projects\\ROBAI2\\challenges\\data\\startup.csv')"
   ]
  },
  {
   "cell_type": "code",
   "execution_count": 21,
   "id": "274c1b8f",
   "metadata": {},
   "outputs": [
    {
     "name": "stdout",
     "output_type": "stream",
     "text": [
      "   Founding Year  Team Size  Funding Amount (USD)  Number of AI Patents  \\\n",
      "0           2016         58            2757901.08                     2   \n",
      "1           2013          7            4904270.76                     3   \n",
      "2           2022         29            3789599.98                     5   \n",
      "3           2020         29            4007445.52                     1   \n",
      "4           2017         45            8457710.09                     5   \n",
      "\n",
      "   Website Visits per Month CEO Name    Startup Code  Success  \n",
      "0                      3256    Heidi     S-FAIL-2824        0  \n",
      "1                      7358      Eve     S-FAIL-1409        0  \n",
      "2                      7355    Alice  S-SUCCESS-5506        1  \n",
      "3                      4538      Eve     S-FAIL-5012        0  \n",
      "4                      5394     Dana  S-SUCCESS-4657        1  \n",
      "<class 'pandas.core.frame.DataFrame'>\n",
      "RangeIndex: 200 entries, 0 to 199\n",
      "Data columns (total 8 columns):\n",
      " #   Column                    Non-Null Count  Dtype  \n",
      "---  ------                    --------------  -----  \n",
      " 0   Founding Year             200 non-null    int64  \n",
      " 1   Team Size                 200 non-null    int64  \n",
      " 2   Funding Amount (USD)      200 non-null    float64\n",
      " 3   Number of AI Patents      200 non-null    int64  \n",
      " 4   Website Visits per Month  200 non-null    int64  \n",
      " 5   CEO Name                  200 non-null    object \n",
      " 6   Startup Code              200 non-null    object \n",
      " 7   Success                   200 non-null    int64  \n",
      "dtypes: float64(1), int64(5), object(2)\n",
      "memory usage: 12.6+ KB\n",
      "None\n",
      "       Founding Year   Team Size  Funding Amount (USD)  Number of AI Patents  \\\n",
      "count     200.000000  200.000000          2.000000e+02              200.0000   \n",
      "mean     2016.930000   50.135000          4.992184e+06                3.0400   \n",
      "std         4.003152   29.210839          2.875423e+06                1.9641   \n",
      "min      2010.000000    2.000000          1.513301e+05                0.0000   \n",
      "25%      2013.750000   25.000000          2.576907e+06                2.0000   \n",
      "50%      2017.000000   49.500000          4.942612e+06                3.0000   \n",
      "75%      2021.000000   73.000000          7.212716e+06                4.0000   \n",
      "max      2023.000000   99.000000          9.959719e+06               10.0000   \n",
      "\n",
      "       Website Visits per Month     Success  \n",
      "count                200.000000  200.000000  \n",
      "mean                5130.645000    0.500000  \n",
      "std                 1313.480427    0.501255  \n",
      "min                 1868.000000    0.000000  \n",
      "25%                 4265.500000    0.000000  \n",
      "50%                 5078.000000    0.500000  \n",
      "75%                 6057.250000    1.000000  \n",
      "max                 8726.000000    1.000000  \n",
      "Leakage-based accuracy: 100.00%\n"
     ]
    }
   ],
   "source": [
    "print(df.head())\n",
    "print(df.info())\n",
    "print(df.describe())\n",
    "df['Code_Prediction'] = df['Startup Code'].str.contains('SUCCESS').astype(int)\n",
    "accuracy = (df['Success'] == df['Code_Prediction']).mean()\n",
    "print(f\"Leakage-based accuracy: {accuracy:.2%}\")"
   ]
  },
  {
   "cell_type": "code",
   "execution_count": 23,
   "id": "5b731f82",
   "metadata": {},
   "outputs": [
    {
     "name": "stdout",
     "output_type": "stream",
     "text": [
      "Success                     1.000000\n",
      "Code_Prediction             1.000000\n",
      "Funding Amount (USD)        0.710880\n",
      "Team Size                   0.328955\n",
      "Number of AI Patents        0.193958\n",
      "Website Visits per Month    0.149127\n",
      "Founding Year              -0.080138\n",
      "Name: Success, dtype: float64\n"
     ]
    }
   ],
   "source": [
    "# Ensure only numeric columns are used for correlation\n",
    "numeric_df = df.select_dtypes(include=[np.number])\n",
    "correlation_matrix = numeric_df.corr()\n",
    "print(correlation_matrix['Success'].sort_values(ascending=False))"
   ]
  },
  {
   "cell_type": "markdown",
   "id": "32602d5d",
   "metadata": {},
   "source": [
    "## 🧩 Objectif final\n",
    "\n",
    "Supprime les colonnes qui biaisent l’apprentissage.\n",
    "\n",
    "Tu dois entraîner un modèle **qui généralise bien**"
   ]
  }
 ],
 "metadata": {
  "kernelspec": {
   "display_name": "base",
   "language": "python",
   "name": "python3"
  },
  "language_info": {
   "codemirror_mode": {
    "name": "ipython",
    "version": 3
   },
   "file_extension": ".py",
   "mimetype": "text/x-python",
   "name": "python",
   "nbconvert_exporter": "python",
   "pygments_lexer": "ipython3",
   "version": "3.11.7"
  }
 },
 "nbformat": 4,
 "nbformat_minor": 5
}
