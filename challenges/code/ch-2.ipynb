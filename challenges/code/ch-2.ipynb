{
 "cells": [
  {
   "cell_type": "markdown",
   "id": "9416cfc0",
   "metadata": {},
   "source": [
    "# 🧠 Aide pour le Challenge CTF - Data Leakage\n",
    "Dans ce challenge, tu vas entraîner un modèle de machine learning sur un jeu de données de startups.\n",
    "Le but est de prédire si une startup va réussir (`Success = 1`) ou échouer (`Success = 0`)\n"
   ]
  },
  {
   "cell_type": "markdown",
   "id": "0cbc5d46",
   "metadata": {},
   "source": [
    "## 🕵️ Étapes conseillées"
   ]
  },
  {
   "cell_type": "markdown",
   "id": "0cccc430",
   "metadata": {},
   "source": [
    "**Explorer les données** : affiche quelques lignes\n"
   ]
  },
  {
   "cell_type": "markdown",
   "id": "10abae82",
   "metadata": {},
   "source": [
    "**Vérifier la corrélation** entre les colonnes\n"
   ]
  },
  {
   "cell_type": "markdown",
   "id": "54c218d6",
   "metadata": {},
   "source": [
    "Est-ce qu’une information est trop prédictive, comme un identifiant ou un code qui encode le succès ?"
   ]
  },
  {
   "cell_type": "code",
   "execution_count": null,
   "id": "4b9ec320",
   "metadata": {},
   "outputs": [
    {
     "name": "stdout",
     "output_type": "stream",
     "text": [
      "   Founding Year  Team Size  Funding Amount (USD)  Number of AI Patents  \\\n",
      "0           2016         58            2757901.08                     2   \n",
      "1           2013          7            4904270.76                     3   \n",
      "2           2022         29            3789599.98                     5   \n",
      "3           2020         29            4007445.52                     1   \n",
      "4           2017         45            8457710.09                     5   \n",
      "\n",
      "   Website Visits per Month CEO Name    Startup Code  Success  \n",
      "0                      3256    Heidi     S-FAIL-2824        0  \n",
      "1                      7358      Eve     S-FAIL-1409        0  \n",
      "2                      7355    Alice  S-SUCCESS-5506        1  \n",
      "3                      4538      Eve     S-FAIL-5012        0  \n",
      "4                      5394     Dana  S-SUCCESS-4657        1  \n"
     ]
    }
   ],
   "source": [
    "import pandas as pd\n",
    "import numpy as np\n",
    "import matplotlib.pyplot as plt\n",
    "import seaborn as sns\n",
    "from sklearn.model_selection import train_test_split\n",
    "from sklearn.ensemble import RandomForestClassifier\n",
    "from sklearn.linear_model import LogisticRegression\n",
    "from sklearn.metrics import accuracy_score, classification_report, confusion_matrix\n",
    "from sklearn.preprocessing import StandardScaler\n",
    "\n",
    "# Load the dataset\n",
    "df = pd.read_csv('D:\\Documents 2\\VScode projects\\ROBAI2\\challenges\\data\\startup.csv')"
   ]
  },
  {
   "cell_type": "code",
   "execution_count": null,
   "id": "274c1b8f",
   "metadata": {},
   "outputs": [],
   "source": [
    "print(df.head())\n",
    "print(df.info())\n",
    "print(df.describe())"
   ]
  },
  {
   "cell_type": "markdown",
   "id": "32602d5d",
   "metadata": {},
   "source": [
    "## 🧩 Objectif final\n",
    "\n",
    "Supprime les colonnes qui biaisent l’apprentissage.\n",
    "\n",
    "Tu dois entraîner un modèle **qui généralise bien**"
   ]
  }
 ],
 "metadata": {
  "kernelspec": {
   "display_name": "base",
   "language": "python",
   "name": "python3"
  },
  "language_info": {
   "codemirror_mode": {
    "name": "ipython",
    "version": 3
   },
   "file_extension": ".py",
   "mimetype": "text/x-python",
   "name": "python",
   "nbconvert_exporter": "python",
   "pygments_lexer": "ipython3",
   "version": "3.11.7"
  }
 },
 "nbformat": 4,
 "nbformat_minor": 5
}
