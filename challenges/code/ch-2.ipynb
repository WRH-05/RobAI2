{
 "cells": [
  {
   "cell_type": "markdown",
   "id": "9416cfc0",
   "metadata": {},
   "source": [
    "# 🧠 Aide pour le Challenge CTF - Data Leakage\n",
    "Dans ce challenge, tu vas entraîner un modèle de machine learning sur un jeu de données de startups.\n",
    "Le but est de prédire si une startup va réussir (`Success = 1`) ou échouer (`Success = 0`)\n"
   ]
  },
  {
   "cell_type": "markdown",
   "id": "0cbc5d46",
   "metadata": {},
   "source": [
    "## 🕵️ Étapes conseillées"
   ]
  },
  {
   "cell_type": "markdown",
   "id": "0cccc430",
   "metadata": {},
   "source": [
    "**Explorer les données** : affiche quelques lignes\n"
   ]
  },
  {
   "cell_type": "markdown",
   "id": "10abae82",
   "metadata": {},
   "source": [
    "**Vérifier la corrélation** entre les colonnes\n"
   ]
  },
  {
   "cell_type": "markdown",
   "id": "54c218d6",
   "metadata": {},
   "source": [
    "Est-ce qu’une information est trop prédictive, comme un identifiant ou un code qui encode le succès ?"
   ]
  },
  {
   "cell_type": "markdown",
   "id": "32602d5d",
   "metadata": {},
   "source": [
    "## 🧩 Objectif final\n",
    "\n",
    "Supprime les colonnes qui biaisent l’apprentissage.\n",
    "\n",
    "Tu dois entraîner un modèle **qui généralise bien**"
   ]
  }
 ],
 "metadata": {
  "language_info": {
   "name": "python"
  }
 },
 "nbformat": 4,
 "nbformat_minor": 5
}
