{
 "cells": [
  {
   "cell_type": "markdown",
   "id": "47f94359",
   "metadata": {},
   "source": [
    " ###  CTF Challenge: Visual Vortex - Decoding the Anomaly\n",
    "\n",
    "\n",
    "\n",
    "\n",
    "\n",
    "\n",
    "\n",
    "**Dataset**: [U.S. International Air Traffic Statistics (1990–2023)](https://www.transtats.bts.gov/)  \n",
    "**Flag Format**: `CTF{Country_Year_Event}`  "
   ]
  },
  {
   "cell_type": "markdown",
   "id": "c1ad2af4",
   "metadata": {},
   "source": [
    " ## 📥 Setup & Data Loading (4 points)"
   ]
  },
  {
   "cell_type": "code",
   "execution_count": 20,
   "id": "9f006ca9",
   "metadata": {},
   "outputs": [],
   "source": [
    "import pandas as pd\n",
    "import numpy as np\n",
    "import matplotlib.pyplot as plt\n",
    "import seaborn as sns\n",
    "\n",
    "a = pd.read_csv(r\"D:\\Documents 2\\VScode projects\\ROBAI2\\challenges\\data\\air_traffic.csv\")\n",
    "a = a.dropna()\n",
    "a = a.drop_duplicates()\n",
    "a = a.reset_index(drop=True)\n",
    "a = a.rename(columns={'Freight (tonnes)': 'Freight'})"
   ]
  },
  {
   "cell_type": "markdown",
   "id": "fdf47687",
   "metadata": {},
   "source": [
    "# dataset comprehension  (11 point)\n",
    "\n",
    "### read and analyse the data then respond to these questions :\n",
    "\n",
    "### Core Questions (must answer atleast 3 of these!! ) \n",
    "\n",
    "1. Which country has the highest total passenger traffic (1990–2023)?  \n",
    "2. How is passenger traffic distributed across countries?  \n",
    "3. Which year had the highest and lowest year-over-year (YoY) passenger growth?  \n",
    "4. What is the average monthly passenger volume across all years?  \n",
    "5. How is air freight volume distributed globally?  \n",
    "\n",
    "### Bonus Questions  \n",
    "\n",
    "1. What is the average number of passengers per flight for each country?  \n",
    "2. Which country has the highest number of recorded flights?  \n",
    "3. Which month historically has the highest air traffic volume?  \n",
    "\n",
    "### Advanced Bonus Questions  \n",
    "\n",
    "1. Which country shows the strongest correlation between passenger traffic and freight volume?  \n",
    "2. Are there seasonal patterns in air traffic for specific countries?  \n",
    "3. Which country recovered fastest to pre-COVID (2019) passenger levels post-2020?  "
   ]
  },
  {
   "cell_type": "code",
   "execution_count": null,
   "id": "ff18a7dd",
   "metadata": {
    "vscode": {
     "languageId": "r"
    }
   },
   "outputs": [],
   "source": [
    "# 1. Which country has the highest total passenger traffic (1990–2023)?\n",
    "total_passengers_by_country = a.groupby('Country')['Passengers'].sum()\n",
    "highest_passenger_country = total_passengers_by_country.idxmax()\n",
    "highest_passenger_traffic = total_passengers_by_country.max()\n",
    "print(f\"Country with highest total passenger traffic: {highest_passenger_country} ({highest_passenger_traffic})\")\n",
    "\n",
    "# 2. How is passenger traffic distributed across countries?\n",
    "plt.figure(figsize=(12, 6))\n",
    "sns.barplot(x=total_passengers_by_country.nlargest(10).index, y=total_passengers_by_country.nlargest(10).values)\n",
    "plt.title(\"Top 10 Countries by Total Passenger Traffic (1990–2023)\")\n",
    "plt.ylabel(\"Total Passengers\")\n",
    "plt.xlabel(\"Country\")\n",
    "plt.xticks(rotation=45)\n",
    "plt.show()\n",
    "\n",
    "# 3. Which year had the highest and lowest year-over-year (YoY) passenger growth?\n",
    "a['Total_Passengers_Per_Year'] = a.groupby('Year')['Passengers'].transform('sum')\n",
    "a['YoY_Growth'] = a['Total_Passengers_Per_Year'].pct_change() * 100\n",
    "highest_growth_year = a.loc[a['YoY_Growth'].idxmax(), 'Year']\n",
    "lowest_growth_year = a.loc[a['YoY_Growth'].idxmin(), 'Year']\n",
    "print(f\"Year with highest YoY passenger growth: {highest_growth_year}\")\n",
    "print(f\"Year with lowest YoY passenger growth: {lowest_growth_year}\")\n",
    "\n",
    "# 4. What is the average monthly passenger volume across all years?\n",
    "average_monthly_passenger_volume = a['Passengers'].mean()\n",
    "print(f\"Average monthly passenger volume: {average_monthly_passenger_volume:.2f}\")\n",
    "\n",
    "# 5. How is air freight volume distributed globally?\n",
    "total_freight_by_country = a.groupby('Country')['Freight'].sum()\n",
    "plt.figure(figsize=(12, 6))\n",
    "sns.barplot(x=total_freight_by_country.nlargest(10).index, y=total_freight_by_country.nlargest(10).values)\n",
    "plt.title(\"Top 10 Countries by Total Freight Volume (1990–2023)\")\n",
    "plt.ylabel(\"Total Freight (tonnes)\")\n",
    "plt.xlabel(\"Country\")\n",
    "plt.xticks(rotation=45)\n",
    "plt.show()"
   ]
  },
  {
   "cell_type": "markdown",
   "id": "fa40b3d5",
   "metadata": {},
   "source": [
    " ## 🧩 Part 1: Data Inspection (5 points)\n",
    " **Q1** : How many missing values exist in the `Passengers` and `Flights` columns?  \n",
    " **Q2** : What is the time range of the dataset?"
   ]
  },
  {
   "cell_type": "code",
   "execution_count": null,
   "id": "11aa944d",
   "metadata": {},
   "outputs": [],
   "source": []
  },
  {
   "cell_type": "markdown",
   "id": "ff7a7bae",
   "metadata": {},
   "source": [
    "## 🛠️ Part 2: Data Augmentation  (10 points)\n",
    " **Q3**: Clean the dataset. Justify your strategy.  \n",
    " **Q4**: Create `Passengers_per_Flight` and `YoY_Growth`. What do they measure?"
   ]
  },
  {
   "cell_type": "code",
   "execution_count": null,
   "id": "266282e6",
   "metadata": {},
   "outputs": [],
   "source": []
  },
  {
   "cell_type": "markdown",
   "id": "22c7d942",
   "metadata": {},
   "source": [
    "## 📈 Part 3: Time Series Visualization (10 point)\n",
    " **Q5**: Plot passenger trends for a country. What anomalies exist?  \n",
    " **Q6**: Add a rolling average. What long-term trend emerges?"
   ]
  },
  {
   "cell_type": "code",
   "execution_count": null,
   "id": "bdee675b",
   "metadata": {},
   "outputs": [],
   "source": []
  },
  {
   "cell_type": "markdown",
   "id": "d0edee82",
   "metadata": {},
   "source": [
    "## 🌍 Part 4: Geospatial Visualization (recommended) (10 points)\n",
    " **Q7**: Map freight volume by country. Which regions are outliers?  \n",
    " **Q8**: Did freight to China drop in 2022?"
   ]
  },
  {
   "cell_type": "code",
   "execution_count": null,
   "id": "cc78351b",
   "metadata": {},
   "outputs": [],
   "source": []
  },
  {
   "cell_type": "markdown",
   "id": "3145f3b0",
   "metadata": {},
   "source": [
    "## 🔗 Part 5: Correlation Analysis (10 points)\n",
    " **Q9**: Are passengers, flights, and freight strongly correlated?  \n",
    " **Q10**: Do clusters emerge in the 3D plot?"
   ]
  },
  {
   "cell_type": "code",
   "execution_count": null,
   "id": "e96219d9",
   "metadata": {},
   "outputs": [],
   "source": []
  },
  {
   "cell_type": "markdown",
   "id": "248af5d0",
   "metadata": {},
   "source": [
    "## 🚨 Part 6: Anomaly Detection (15 points)\n",
    " **Q11**: What’s the worst YoY passenger drop?  \n",
    " **Q12**: What event caused it?"
   ]
  },
  {
   "cell_type": "code",
   "execution_count": null,
   "id": "2a4f222e",
   "metadata": {},
   "outputs": [],
   "source": []
  },
  {
   "cell_type": "markdown",
   "id": "17ef040c",
   "metadata": {},
   "source": [
    "## 🏁 Part 7: Flag Submission (30 point)\n",
    "**Q13**: Submit your flag as `CTF{Country_Year_Event}`."
   ]
  },
  {
   "cell_type": "code",
   "execution_count": null,
   "id": "dcec48a6",
   "metadata": {},
   "outputs": [],
   "source": []
  },
  {
   "cell_type": "markdown",
   "id": "3f815c98",
   "metadata": {},
   "source": [
    "\n",
    " ## 🎯 Bonus Points (Advanced Techniques)\n",
    " **Extra credit will be awarded for implementing the following methods:**  \n",
    "\n",
    "        * **Dimensionality Reduction (PCA)**\n",
    "\n",
    "        * **Time Series Decomposition**\n",
    "\n",
    "        * **Clustering (K-Means/DBSCAN)**  \n",
    "\n",
    "        \n",
    " ---\n",
    " **Scoring Boost**:  \n",
    " - **+15%**: For implementing PCA + Clustering  \n",
    " - **+10%**: For time series decomposition or automated anomaly detection\n",
    " - **+20%**: for  creative / original ideas or implimentations  (justifications and context  will also be considered )\n",
    " "
   ]
  }
 ],
 "metadata": {
  "kernelspec": {
   "display_name": "base",
   "language": "python",
   "name": "python3"
  },
  "language_info": {
   "codemirror_mode": {
    "name": "ipython",
    "version": 3
   },
   "file_extension": ".py",
   "mimetype": "text/x-python",
   "name": "python",
   "nbconvert_exporter": "python",
   "pygments_lexer": "ipython3",
   "version": "3.11.7"
  }
 },
 "nbformat": 4,
 "nbformat_minor": 5
}
